{
 "cells": [
  {
   "cell_type": "code",
   "execution_count": 4,
   "id": "a75f99ba-4416-4441-9905-4f436cef416e",
   "metadata": {
    "execution": {
     "iopub.execute_input": "2022-11-15T12:03:34.639084Z",
     "iopub.status.busy": "2022-11-15T12:03:34.638703Z",
     "iopub.status.idle": "2022-11-15T12:03:34.646538Z",
     "shell.execute_reply": "2022-11-15T12:03:34.646013Z",
     "shell.execute_reply.started": "2022-11-15T12:03:34.639056Z"
    },
    "tags": []
   },
   "outputs": [],
   "source": [
    "def set_cfg():\n",
    "    import os\n",
    "    import json\n",
    "    f = open(\"../api/kaggle.json\", 'r')\n",
    "    json_data = json.load(f)\n",
    "    os.environ['KAGGLE_USERNAME'] = json_data['username']\n",
    "    os.environ['KAGGLE_KEY'] = json_data['key']\n",
    "\n",
    "# def submit():\n",
    "#     !pip install kaggle\n",
    "#     \n",
    "def check_submissions():\n",
    "    !kaggle competitions submissions -c open-problems-multimodal"
   ]
  },
  {
   "cell_type": "code",
   "execution_count": 5,
   "id": "f5a034d1-8be3-4fb9-bf75-fbf308d23e52",
   "metadata": {
    "execution": {
     "iopub.execute_input": "2022-11-15T12:03:37.039373Z",
     "iopub.status.busy": "2022-11-15T12:03:37.038996Z",
     "iopub.status.idle": "2022-11-15T12:03:37.042502Z",
     "shell.execute_reply": "2022-11-15T12:03:37.041989Z",
     "shell.execute_reply.started": "2022-11-15T12:03:37.039346Z"
    },
    "tags": []
   },
   "outputs": [],
   "source": [
    "set_cfg()"
   ]
  },
  {
   "cell_type": "code",
   "execution_count": 6,
   "id": "bcf0ffc6-47be-4e6f-a790-ffe477b3dece",
   "metadata": {
    "collapsed": true,
    "execution": {
     "iopub.execute_input": "2022-11-15T12:04:22.716057Z",
     "iopub.status.busy": "2022-11-15T12:04:22.715690Z",
     "iopub.status.idle": "2022-11-15T12:04:26.853403Z",
     "shell.execute_reply": "2022-11-15T12:04:26.852702Z",
     "shell.execute_reply.started": "2022-11-15T12:04:22.716032Z"
    },
    "jupyter": {
     "outputs_hidden": true
    },
    "tags": []
   },
   "outputs": [
    {
     "name": "stdout",
     "output_type": "stream",
     "text": [
      "Collecting kaggle\n",
      "  Using cached kaggle-1.5.12-py3-none-any.whl\n",
      "Requirement already satisfied: tqdm in /opt/conda/envs/saturn/lib/python3.9/site-packages (from kaggle) (4.64.1)\n",
      "Requirement already satisfied: six>=1.10 in /opt/conda/envs/saturn/lib/python3.9/site-packages (from kaggle) (1.16.0)\n",
      "Requirement already satisfied: requests in /opt/conda/envs/saturn/lib/python3.9/site-packages (from kaggle) (2.27.1)\n",
      "Requirement already satisfied: python-dateutil in /opt/conda/envs/saturn/lib/python3.9/site-packages (from kaggle) (2.8.2)\n",
      "Requirement already satisfied: python-slugify in /opt/conda/envs/saturn/lib/python3.9/site-packages (from kaggle) (6.1.2)\n",
      "Requirement already satisfied: urllib3 in /opt/conda/envs/saturn/lib/python3.9/site-packages (from kaggle) (1.26.9)\n",
      "Requirement already satisfied: certifi in /opt/conda/envs/saturn/lib/python3.9/site-packages (from kaggle) (2021.10.8)\n",
      "Requirement already satisfied: text-unidecode>=1.3 in /opt/conda/envs/saturn/lib/python3.9/site-packages (from python-slugify->kaggle) (1.3)\n",
      "Requirement already satisfied: idna<4,>=2.5 in /opt/conda/envs/saturn/lib/python3.9/site-packages (from requests->kaggle) (3.3)\n",
      "Requirement already satisfied: charset-normalizer~=2.0.0 in /opt/conda/envs/saturn/lib/python3.9/site-packages (from requests->kaggle) (2.0.12)\n",
      "Installing collected packages: kaggle\n",
      "Successfully installed kaggle-1.5.12\n",
      "ref                                                              title                                               author                lastRunTime          totalVotes  \n",
      "---------------------------------------------------------------  --------------------------------------------------  --------------------  -------------------  ----------  \n",
      "wouldyoujustfocus/l-king-for-a-ds-job                            L👀king for a DS job ??                              kaoutar               2022-11-15 07:05:32          22  \n",
      "gautamchettiar/data-preprocessing-eda-and-classifications        Data Preprocessing, EDA, and Classifications        Gautam Chettiar       2022-11-15 05:13:21           4  \n",
      "saramah/bank-loan-classification                                 Bank_Loan_classification                            Sara Mahdavi          2022-11-15 07:14:45          29  \n",
      "saramah/mobile-price-prediction-classification                   Mobile_Price_Prediction_Classification              Sara Mahdavi          2022-11-15 07:28:15           7  \n",
      "cdeotte/time-series-eda-users-and-real-sessions                  Time Series EDA - Users and Real Sessions           Chris Deotte          2022-11-15 09:21:30          21  \n",
      "bkumagai/bayesian-velocity-models-for-horse-race-simulation      Bayesian Velocity Models for Horse Race Simulation  Brendan Kumagai       2022-11-15 07:00:41          26  \n",
      "utkarshsaxenadn/cpu-gpu-performance-eda-data-processing          CPU - GPU Performance | EDA 📊 | Data Processing ⚒   DeepNets              2022-11-15 00:22:45          14  \n",
      "neerajanandcoder/g2net-train                                     G2Net_Train                                         Neeraj Anand          2022-11-15 08:43:07          17  \n",
      "raagulbharatwajk/vit-for-surface-crack-detection                 ViT for surface crack detection                     RAAGULBHARATWAJ K     2022-11-15 06:46:29           2  \n",
      "mridulsyed/diabetes-prediction                                   Diabetes Prediction                                 Syed Siddique Mridul  2022-11-15 09:10:12           1  \n",
      "amitbakde/digit-recognizer                                       Digit Recognizer                                    Amit Bakde            2022-11-15 09:39:27           1  \n",
      "jiaowoguanren/fast-food-clf-tf-efficientnet-resmlp-val-auc-0-99  Fast Food Clf TF EfficientNet+ResMLP Val_AUC:0.99   whxna-0615            2022-11-15 05:55:39           3  \n",
      "prakharjadaun/decision-tree-v-s-random-forest-learn-with-me      Decision Tree v/s Random Forest - Learn With Me     Prakhar Jadaun        2022-11-14 21:14:55          12  \n",
      "berkemk/water-quality-eda                                        Water Quality EDA                                   BerkemK               2022-11-14 23:01:39           7  \n",
      "stpeteishii/cellphone-recommendation-lightfm                     Cellphone Recommendation LightFM                    stpete_ishii          2022-11-15 03:02:42           3  \n",
      "mridulsyed/heart-disease-prediction                              Heart Disease Prediction                            Syed Siddique Mridul  2022-11-15 08:29:29           1  \n",
      "bhavinmoriya/monte-carlo-simulation-for-gross-profit             Monte Carlo Simulation for Gross Profit             Bhavin Moriya         2022-11-15 01:24:58           4  \n",
      "subratnayak37/insurance-claim-prediction-notebook                Insurance_Claim_Prediction_Notebook                 Subrat Nayak@37       2022-11-15 04:49:02           2  \n",
      "mralamdari/superman-batman-tracker-yolov4                        SuperMan&Batman_tracker_yolov4                      Mr Alamdari           2022-11-15 07:58:14           2  \n",
      "pedro988/titanic-machine-learning                                Titanic - Machine Learning                          Pedro988              2022-11-15 07:49:25           2  \n"
     ]
    }
   ],
   "source": [
    "!pip install kaggle\n",
    "!kaggle kernels list"
   ]
  },
  {
   "cell_type": "code",
   "execution_count": 7,
   "id": "ba6b3d62-2e3d-4c3e-ab2a-211d492f7deb",
   "metadata": {
    "execution": {
     "iopub.execute_input": "2022-11-15T12:07:40.076526Z",
     "iopub.status.busy": "2022-11-15T12:07:40.076122Z",
     "iopub.status.idle": "2022-11-15T12:07:41.272167Z",
     "shell.execute_reply": "2022-11-15T12:07:41.271629Z",
     "shell.execute_reply.started": "2022-11-15T12:07:40.076496Z"
    }
   },
   "outputs": [],
   "source": [
    "import os, gc, pickle, warnings\n",
    "import pandas as pd\n",
    "import matplotlib.pyplot as plt\n",
    "import numpy as np\n",
    "from colorama import Fore, Back, Style\n",
    "from matplotlib.ticker import MaxNLocator\n",
    "import seaborn as sns\n",
    "import os,gc,time,random\n",
    "from tqdm.notebook import tqdm\n",
    "\n",
    "from sklearn.base import BaseEstimator, TransformerMixin\n",
    "from sklearn.model_selection import KFold\n",
    "from sklearn.preprocessing import StandardScaler, scale\n",
    "from sklearn.decomposition import PCA, TruncatedSVD\n",
    "from sklearn.dummy import DummyRegressor\n",
    "from sklearn.pipeline import make_pipeline, Pipeline\n",
    "from sklearn.linear_model import Ridge, LinearRegression, Lasso\n",
    "from sklearn.metrics import mean_squared_error\n",
    "\n",
    "import scipy\n",
    "import scipy.sparse\n",
    "\n",
    "warnings.filterwarnings('ignore')"
   ]
  },
  {
   "cell_type": "code",
   "execution_count": 8,
   "id": "545541a6-9fc3-47ae-bedb-8c17fa7219cd",
   "metadata": {
    "execution": {
     "iopub.execute_input": "2022-11-15T12:07:51.495082Z",
     "iopub.status.busy": "2022-11-15T12:07:51.494611Z",
     "iopub.status.idle": "2022-11-15T12:07:51.501626Z",
     "shell.execute_reply": "2022-11-15T12:07:51.500951Z",
     "shell.execute_reply.started": "2022-11-15T12:07:51.495055Z"
    }
   },
   "outputs": [],
   "source": [
    "FP_INPUT_DIR = '../input/'\n",
    "FP_OUTPUT_DIR = './'\n",
    "\n",
    "\n",
    "FP_SPARSE_DATA = os.path.join(FP_INPUT_DIR, \"multimodal-single-cell-as-sparse-matrix/\")\n",
    "FP_PCA_DATA = os.path.join(FP_INPUT_DIR, \"single-cell-multi-svd-pkl/\") \n",
    "\n",
    "FP_CELL_METADATA = os.path.join(FP_SPARSE_DATA,\"metadata.parquet\")\n",
    "\n",
    "FP_CITE_TRAIN_INPUTS_VALUES = os.path.join(FP_SPARSE_DATA,\"train_cite_inputs_values.sparse.npz\")\n",
    "FP_CITE_TRAIN_INPUTS_IDXCOL = os.path.join(FP_SPARSE_DATA,\"train_cite_inputs_idxcol.npz\")\n",
    "FP_CITE_TRAIN_TARGETS_VALUES = os.path.join(FP_SPARSE_DATA,\"train_cite_targets_values.sparse.npz\")\n",
    "FP_CITE_TRAIN_TARGETS_IDXCOL = os.path.join(FP_SPARSE_DATA,\"train_cite_targets_idxcol.npz\")\n",
    "FP_CITE_TEST_INPUTS_VALUES = os.path.join(FP_SPARSE_DATA,\"test_cite_inputs_values.sparse.npz\")\n",
    "FP_CITE_TEST_INPUTS_IDXCOL = os.path.join(FP_SPARSE_DATA,\"test_cite_inputs_idxcol.npz\")\n",
    "\n",
    "FP_MULTI_TRAIN_INPUTS_VALUES = os.path.join(FP_SPARSE_DATA,\"train_multi_inputs_values.sparse.npz\")\n",
    "FP_MULTI_TRAIN_INPUTS_IDXCOL = os.path.join(FP_SPARSE_DATA,\"train_multi_inputs_idxcol.npz\")\n",
    "FP_MULTI_TRAIN_TARGETS_VALUES = os.path.join(FP_SPARSE_DATA,\"train_multi_targets_values.sparse.npz\")\n",
    "FP_MULTI_TRAIN_TARGETS_IDXCOL = os.path.join(FP_SPARSE_DATA,\"train_multi_targets_idxcol.npz\")\n",
    "FP_MULTI_TEST_INPUTS_VALUES = os.path.join(FP_SPARSE_DATA,\"test_multi_inputs_values.sparse.npz\")\n",
    "FP_MULTI_TEST_INPUTS_IDXCOL = os.path.join(FP_SPARSE_DATA,\"test_multi_inputs_idxcol.npz\")\n",
    "\n",
    "FP_SUBMISSION = os.path.join(FP_SPARSE_DATA,\"sample_submission.parquet\")\n",
    "FP_EVALUATION = os.path.join(FP_SPARSE_DATA,\"evaluation.parquet\")\n"
   ]
  },
  {
   "cell_type": "code",
   "execution_count": 9,
   "id": "ee4e0efe-d078-4586-b5ca-052e132d6061",
   "metadata": {
    "execution": {
     "iopub.execute_input": "2022-11-15T12:09:42.210039Z",
     "iopub.status.busy": "2022-11-15T12:09:42.209661Z",
     "iopub.status.idle": "2022-11-15T12:09:43.047711Z",
     "shell.execute_reply": "2022-11-15T12:09:43.047141Z",
     "shell.execute_reply.started": "2022-11-15T12:09:42.210013Z"
    }
   },
   "outputs": [],
   "source": [
    "# read sample submission\n",
    "preds_cite = np.load('preds_cite/preds_cite_singlecat_11-14-17:48.npy')\n",
    "preds_multi = np.load('preds_multi/preds_multi_single_cat.npy')"
   ]
  },
  {
   "cell_type": "code",
   "execution_count": 10,
   "id": "f2a62874-e7ef-4fe7-a42b-f074cb1d41cf",
   "metadata": {
    "execution": {
     "iopub.execute_input": "2022-11-15T12:09:44.601499Z",
     "iopub.status.busy": "2022-11-15T12:09:44.601130Z",
     "iopub.status.idle": "2022-11-15T12:09:45.125987Z",
     "shell.execute_reply": "2022-11-15T12:09:45.125479Z",
     "shell.execute_reply.started": "2022-11-15T12:09:44.601473Z"
    }
   },
   "outputs": [
    {
     "data": {
      "text/plain": [
       "77"
      ]
     },
     "execution_count": 10,
     "metadata": {},
     "output_type": "execute_result"
    }
   ],
   "source": [
    "# citeseq\n",
    "Y = scipy.sparse.load_npz(FP_CITE_TRAIN_TARGETS_VALUES)\n",
    "# Copy the targets for the data leak but useless since the change in the public LB...\n",
    "preds_cite[:7476] = Y[:7476].toarray()\n",
    "del Y\n",
    "gc.collect()"
   ]
  },
  {
   "cell_type": "code",
   "execution_count": 11,
   "id": "8e2ee852-80da-424a-989d-577187c15e2e",
   "metadata": {
    "execution": {
     "iopub.execute_input": "2022-11-15T12:09:45.674527Z",
     "iopub.status.busy": "2022-11-15T12:09:45.674137Z",
     "iopub.status.idle": "2022-11-15T12:10:26.973677Z",
     "shell.execute_reply": "2022-11-15T12:10:26.973127Z",
     "shell.execute_reply.started": "2022-11-15T12:09:45.674501Z"
    }
   },
   "outputs": [
    {
     "data": {
      "text/plain": [
       "row_id    cell_id       gene_id        \n",
       "0         c2150f55becb  CD86              NaN\n",
       "1         c2150f55becb  CD274             NaN\n",
       "2         c2150f55becb  CD270             NaN\n",
       "3         c2150f55becb  CD155             NaN\n",
       "4         c2150f55becb  CD112             NaN\n",
       "                                           ..\n",
       "65744175  2c53aa67933d  ENSG00000134419   NaN\n",
       "65744176  2c53aa67933d  ENSG00000186862   NaN\n",
       "65744177  2c53aa67933d  ENSG00000170959   NaN\n",
       "65744178  2c53aa67933d  ENSG00000107874   NaN\n",
       "65744179  2c53aa67933d  ENSG00000166012   NaN\n",
       "Name: target, Length: 65744180, dtype: float32"
      ]
     },
     "metadata": {},
     "output_type": "display_data"
    },
    {
     "data": {
      "text/plain": [
       "row_id\n",
       "0                NaN\n",
       "1                NaN\n",
       "2                NaN\n",
       "3                NaN\n",
       "4                NaN\n",
       "              ...   \n",
       "65744175    2.904297\n",
       "65744176   -0.401123\n",
       "65744177   -0.397461\n",
       "65744178    0.165527\n",
       "65744179    2.404297\n",
       "Name: target, Length: 65744180, dtype: float32"
      ]
     },
     "execution_count": 11,
     "metadata": {},
     "output_type": "execute_result"
    }
   ],
   "source": [
    "# multi\n",
    "eval_ids = pd.read_parquet(\"../input/multimodal-single-cell-as-sparse-matrix/evaluation.parquet\")\n",
    "eval_ids.cell_id = eval_ids.cell_id.astype(pd.CategoricalDtype())\n",
    "eval_ids.gene_id = eval_ids.gene_id.astype(pd.CategoricalDtype())\n",
    "\n",
    "submission_multi = pd.Series(name='target',\n",
    "                       index=pd.MultiIndex.from_frame(eval_ids), \n",
    "                       dtype=np.float32)\n",
    "display(submission_multi)\n",
    "\n",
    "y_columns = np.load(\"../input/multimodal-single-cell-as-sparse-matrix/train_multi_targets_idxcol.npz\",\n",
    "                   allow_pickle=True)[\"columns\"]\n",
    "\n",
    "test_index = np.load(\"../input/multimodal-single-cell-as-sparse-matrix/test_multi_inputs_idxcol.npz\",\n",
    "                    allow_pickle=True)[\"index\"]\n",
    "\n",
    "cell_dict = dict((k,v) for v,k in enumerate(test_index)) \n",
    "assert len(cell_dict)  == len(test_index)\n",
    "\n",
    "gene_dict = dict((k,v) for v,k in enumerate(y_columns))\n",
    "assert len(gene_dict) == len(y_columns)\n",
    "\n",
    "eval_ids_cell_num = eval_ids.cell_id.apply(lambda x:cell_dict.get(x, -1))\n",
    "eval_ids_gene_num = eval_ids.gene_id.apply(lambda x:gene_dict.get(x, -1))\n",
    "valid_multi_rows = (eval_ids_gene_num !=-1) & (eval_ids_cell_num!=-1)\n",
    "\n",
    "submission_multi.iloc[valid_multi_rows] = preds_multi[eval_ids_cell_num[valid_multi_rows].to_numpy(),\n",
    "eval_ids_gene_num[valid_multi_rows].to_numpy()]\n",
    "\n",
    "del eval_ids_cell_num, eval_ids_gene_num, valid_multi_rows, eval_ids, test_index, y_columns\n",
    "gc.collect()\n",
    "\n",
    "submission_multi.reset_index(drop=True, inplace=True)\n",
    "submission_multi.index.name = 'row_id'\n",
    "\n",
    "submission_multi"
   ]
  },
  {
   "cell_type": "code",
   "execution_count": 12,
   "id": "ae81b562-5fec-499c-985f-248a556706ea",
   "metadata": {
    "execution": {
     "iopub.execute_input": "2022-11-15T12:10:26.974917Z",
     "iopub.status.busy": "2022-11-15T12:10:26.974638Z",
     "iopub.status.idle": "2022-11-15T12:10:37.658564Z",
     "shell.execute_reply": "2022-11-15T12:10:37.657930Z",
     "shell.execute_reply.started": "2022-11-15T12:10:26.974897Z"
    }
   },
   "outputs": [
    {
     "data": {
      "text/plain": [
       "row_id\n",
       "0           1.167969\n",
       "1           0.622559\n",
       "2           0.106934\n",
       "3           0.324951\n",
       "4           3.332031\n",
       "              ...   \n",
       "65744175    2.904297\n",
       "65744176   -0.401123\n",
       "65744177   -0.397461\n",
       "65744178    0.165527\n",
       "65744179    2.404297\n",
       "Name: target, Length: 65744180, dtype: float64"
      ]
     },
     "execution_count": 12,
     "metadata": {},
     "output_type": "execute_result"
    }
   ],
   "source": [
    "submission = pd.read_csv('../input/open-problems-multimodal/sample_submission.csv',index_col='row_id', squeeze=True)\n",
    "submission.iloc[:len(preds_cite.ravel())] = preds_cite.ravel()\n",
    "submission.iloc[len(preds_cite.ravel()):] = submission_multi.iloc[len(preds_cite.ravel()):]\n",
    "submission"
   ]
  },
  {
   "cell_type": "code",
   "execution_count": 24,
   "id": "c84ccd07-2bf9-42a3-94e6-6634cd9ee150",
   "metadata": {
    "execution": {
     "iopub.execute_input": "2022-11-15T14:43:57.973203Z",
     "iopub.status.busy": "2022-11-15T14:43:57.972803Z",
     "iopub.status.idle": "2022-11-15T14:43:58.118197Z",
     "shell.execute_reply": "2022-11-15T14:43:58.117402Z",
     "shell.execute_reply.started": "2022-11-15T14:43:57.973168Z"
    },
    "tags": []
   },
   "outputs": [
    {
     "data": {
      "text/plain": [
       "((48663, 140), 6812820)"
      ]
     },
     "execution_count": 24,
     "metadata": {},
     "output_type": "execute_result"
    }
   ],
   "source": [
    "preds_cite_singlecat_retrain = np.load('preds_cite/preds_cite_singlecat_retrain_11-15-21:59.npy')\n",
    "preds_cite_singlecat1 = np.load('preds_cite/preds_cite_singlecat_11-14-17:36.npy')\n",
    "preds_cite_singlecat2 = np.load('preds_cite/preds_cite_singlecat_11-14-17:48.npy')\n",
    "preds_cite_multicat = np.load('preds_cite/preds_cite_multicat.npy')\n",
    "preds_cite_single_lgbm = np.load('preds_cite/preds_cite_lgbm_single.npy')\n"
   ]
  },
  {
   "cell_type": "code",
   "execution_count": 43,
   "id": "9b8bc11f-e1c8-45a1-a779-97de4c1836ef",
   "metadata": {
    "execution": {
     "iopub.execute_input": "2022-11-15T15:06:43.699508Z",
     "iopub.status.busy": "2022-11-15T15:06:43.699215Z",
     "iopub.status.idle": "2022-11-15T15:06:43.703934Z",
     "shell.execute_reply": "2022-11-15T15:06:43.703026Z",
     "shell.execute_reply.started": "2022-11-15T15:06:43.699485Z"
    },
    "tags": []
   },
   "outputs": [],
   "source": [
    "def standardize(preds):\n",
    "    i = 0\n",
    "    for p in tqdm(preds):\n",
    "        preds[i] = (p-np.mean(p))/np.std(p)\n",
    "        i+=1\n",
    "    return preds"
   ]
  },
  {
   "cell_type": "code",
   "execution_count": 44,
   "id": "c761c50b-e496-4ea9-b8aa-dda74e504859",
   "metadata": {
    "execution": {
     "iopub.execute_input": "2022-11-15T15:06:45.744560Z",
     "iopub.status.busy": "2022-11-15T15:06:45.744111Z",
     "iopub.status.idle": "2022-11-15T15:07:03.581231Z",
     "shell.execute_reply": "2022-11-15T15:07:03.580476Z",
     "shell.execute_reply.started": "2022-11-15T15:06:45.744523Z"
    },
    "tags": []
   },
   "outputs": [
    {
     "data": {
      "application/vnd.jupyter.widget-view+json": {
       "model_id": "51d7824fba504a2eaae483f053a6248d",
       "version_major": 2,
       "version_minor": 0
      },
      "text/plain": [
       "  0%|          | 0/48663 [00:00<?, ?it/s]"
      ]
     },
     "metadata": {},
     "output_type": "display_data"
    },
    {
     "data": {
      "application/vnd.jupyter.widget-view+json": {
       "model_id": "e121b42bf73d426597ed5fd281488e59",
       "version_major": 2,
       "version_minor": 0
      },
      "text/plain": [
       "  0%|          | 0/48663 [00:00<?, ?it/s]"
      ]
     },
     "metadata": {},
     "output_type": "display_data"
    },
    {
     "data": {
      "application/vnd.jupyter.widget-view+json": {
       "model_id": "130d01558797401a9532203fe903d2a8",
       "version_major": 2,
       "version_minor": 0
      },
      "text/plain": [
       "  0%|          | 0/48663 [00:00<?, ?it/s]"
      ]
     },
     "metadata": {},
     "output_type": "display_data"
    },
    {
     "data": {
      "application/vnd.jupyter.widget-view+json": {
       "model_id": "6c29ef05d71640cb932089d52ab99407",
       "version_major": 2,
       "version_minor": 0
      },
      "text/plain": [
       "  0%|          | 0/48663 [00:00<?, ?it/s]"
      ]
     },
     "metadata": {},
     "output_type": "display_data"
    },
    {
     "data": {
      "application/vnd.jupyter.widget-view+json": {
       "model_id": "3ea0ca034c104accb959c73d32f49dd3",
       "version_major": 2,
       "version_minor": 0
      },
      "text/plain": [
       "  0%|          | 0/48663 [00:00<?, ?it/s]"
      ]
     },
     "metadata": {},
     "output_type": "display_data"
    }
   ],
   "source": [
    "preds_cite_singlecat_retrain = standardize(preds_cite_singlecat_retrain)\n",
    "preds_cite_singlecat1 = standardize(preds_cite_singlecat1)\n",
    "preds_cite_singlecat2 = standardize(preds_cite_singlecat2)\n",
    "preds_cite_multicat = standardize(preds_cite_multicat)\n",
    "preds_cite_single_lgbm = standardize(preds_cite_single_lgbm)"
   ]
  },
  {
   "cell_type": "code",
   "execution_count": 47,
   "id": "1b9139e9-6843-4c8a-8673-db2cd531cad0",
   "metadata": {
    "execution": {
     "iopub.execute_input": "2022-11-15T15:10:13.943591Z",
     "iopub.status.busy": "2022-11-15T15:10:13.943141Z",
     "iopub.status.idle": "2022-11-15T15:10:13.957571Z",
     "shell.execute_reply": "2022-11-15T15:10:13.956833Z",
     "shell.execute_reply.started": "2022-11-15T15:10:13.943546Z"
    }
   },
   "outputs": [
    {
     "data": {
      "text/plain": [
       "(array([[-0.503  , -0.4805 , -0.3618 , ..., -0.4368 ,  0.1532 ,  0.4482 ],\n",
       "        [-0.4883 , -0.4846 , -0.3604 , ..., -0.4216 ,  0.2942 ,  0.4773 ],\n",
       "        [-0.541  , -0.4094 , -0.2532 , ..., -0.4946 ,  1.662  ,  0.571  ],\n",
       "        ...,\n",
       "        [-0.4226 , -0.08636, -0.2021 , ..., -0.3418 , -0.2876 ,  0.4768 ],\n",
       "        [-0.6436 , -0.501  , -0.27   , ..., -0.5537 ,  2.312  ,  0.603  ],\n",
       "        [-0.579  , -0.4634 , -0.2615 , ..., -0.521  ,  2.31   ,  0.636  ]],\n",
       "       dtype=float16),\n",
       " array([[-0.512 , -0.489 , -0.366 , ..., -0.4385,  0.1444,  0.4531],\n",
       "        [-0.5054, -0.4783, -0.361 , ..., -0.4263,  0.2917,  0.4915],\n",
       "        [-0.535 , -0.4048, -0.2544, ..., -0.4705,  1.547 ,  0.529 ],\n",
       "        ...,\n",
       "        [-0.4297, -0.0693, -0.2125, ..., -0.3516, -0.1844,  0.472 ],\n",
       "        [-0.637 , -0.49  , -0.2783, ..., -0.5522,  2.3   ,  0.575 ],\n",
       "        [-0.6074, -0.4546, -0.2522, ..., -0.5244,  2.297 ,  0.595 ]],\n",
       "       dtype=float16),\n",
       " array([[-0.515  , -0.4192 , -0.3599 , ..., -0.435  ,  0.1567 , -0.07764],\n",
       "        [-0.4114 , -0.402  , -0.3604 , ..., -0.3972 ,  0.327  ,  0.00775],\n",
       "        [-0.3909 , -0.3755 , -0.3215 , ..., -0.4822 ,  1.416  ,  0.3186 ],\n",
       "        ...,\n",
       "        [-0.4695 ,  0.05548, -0.2197 , ..., -0.4214 , -0.331  ,  0.3157 ],\n",
       "        [-0.556  , -0.51   , -0.2603 , ..., -0.5435 ,  2.176  ,  0.997  ],\n",
       "        [-0.6074 , -0.401  , -0.2756 , ..., -0.4875 ,  2.314  ,  1.099  ]],\n",
       "       dtype=float16),\n",
       " array([[ 0.02164, -0.204  , -0.4004 , ..., -0.2905 ,  0.3472 , -0.2338 ],\n",
       "        [-0.2847 , -0.3394 , -0.221  , ..., -0.1621 ,  0.4092 ,  0.209  ],\n",
       "        [-0.537  , -0.527  , -0.651  , ..., -0.7764 ,  1.043  ,  0.5786 ],\n",
       "        ...,\n",
       "        [-0.365  , -0.0377 , -0.2925 , ..., -0.323  , -0.1788 ,  0.2769 ],\n",
       "        [-0.6997 , -0.415  , -0.28   , ..., -0.4033 ,  2.48   ,  1.009  ],\n",
       "        [-0.5244 , -0.3972 , -0.5073 , ..., -0.51   ,  2.004  ,  1.357  ]],\n",
       "       dtype=float16))"
      ]
     },
     "execution_count": 47,
     "metadata": {},
     "output_type": "execute_result"
    }
   ],
   "source": [
    "preds_cite_singlecat1, preds_cite_singlecat2, preds_cite_multicat, preds_cite_single_lgbm"
   ]
  },
  {
   "cell_type": "code",
   "execution_count": 45,
   "id": "e0d9020b-5dc9-446f-ae5d-f5359675027c",
   "metadata": {
    "execution": {
     "iopub.execute_input": "2022-11-15T15:08:59.720867Z",
     "iopub.status.busy": "2022-11-15T15:08:59.720310Z",
     "iopub.status.idle": "2022-11-15T15:09:00.461086Z",
     "shell.execute_reply": "2022-11-15T15:09:00.460201Z",
     "shell.execute_reply.started": "2022-11-15T15:08:59.720827Z"
    }
   },
   "outputs": [],
   "source": [
    "preds_cite_ens = 0.3*preds_cite_singlecat1 + 0.3*preds_cite_singlecat2 + 0.1*preds_cite_multicat + 0.3*preds_cite_single_lgbm"
   ]
  },
  {
   "cell_type": "code",
   "execution_count": null,
   "id": "44460a26-6039-4650-874f-8b6f54edfd1a",
   "metadata": {},
   "outputs": [
    {
     "data": {
      "text/plain": [
       "row_id\n",
       "0           0.182096\n",
       "1           0.010811\n",
       "2          -0.101281\n",
       "3           1.442052\n",
       "4           2.616124\n",
       "              ...   \n",
       "65744175    5.422715\n",
       "65744176   -0.302524\n",
       "65744177   -0.293852\n",
       "65744178    0.755234\n",
       "65744179    4.725446\n",
       "Name: target, Length: 65744180, dtype: float64"
      ]
     },
     "execution_count": 20,
     "metadata": {},
     "output_type": "execute_result"
    }
   ],
   "source": [
    "submission = pd.read_csv('submission_lolo_total_ensembling.csv',index_col='row_id', squeeze=True)\n",
    "submission"
   ]
  },
  {
   "cell_type": "code",
   "execution_count": 46,
   "id": "7590e86e-1186-4a4a-9a04-a243602b3c08",
   "metadata": {
    "execution": {
     "iopub.execute_input": "2022-11-15T15:09:29.746225Z",
     "iopub.status.busy": "2022-11-15T15:09:29.745618Z",
     "iopub.status.idle": "2022-11-15T15:09:29.786413Z",
     "shell.execute_reply": "2022-11-15T15:09:29.785840Z",
     "shell.execute_reply.started": "2022-11-15T15:09:29.746181Z"
    },
    "tags": []
   },
   "outputs": [
    {
     "data": {
      "text/plain": [
       "row_id\n",
       "0          -0.349609\n",
       "1          -0.394287\n",
       "2          -0.374512\n",
       "3           0.598145\n",
       "4           1.335938\n",
       "              ...   \n",
       "65744175    5.422715\n",
       "65744176   -0.302524\n",
       "65744177   -0.293852\n",
       "65744178    0.755234\n",
       "65744179    4.725446\n",
       "Name: target, Length: 65744180, dtype: float64"
      ]
     },
     "execution_count": 46,
     "metadata": {},
     "output_type": "execute_result"
    }
   ],
   "source": [
    "submission.iloc[:len(preds_cite_ens.ravel())] = preds_cite_ens.ravel()\n",
    "submission"
   ]
  },
  {
   "cell_type": "code",
   "execution_count": 23,
   "id": "ef22e225-be18-451d-9c23-d76f21d55c1e",
   "metadata": {
    "execution": {
     "iopub.execute_input": "2022-11-15T14:12:59.928688Z",
     "iopub.status.busy": "2022-11-15T14:12:59.928311Z",
     "iopub.status.idle": "2022-11-15T14:15:14.497914Z",
     "shell.execute_reply": "2022-11-15T14:15:14.497388Z",
     "shell.execute_reply.started": "2022-11-15T14:12:59.928660Z"
    },
    "tags": []
   },
   "outputs": [
    {
     "name": "stdout",
     "output_type": "stream",
     "text": [
      "CPU times: user 2min 11s, sys: 2.95 s, total: 2min 14s\n",
      "Wall time: 2min 14s\n"
     ]
    }
   ],
   "source": [
    "%time submission.to_csv('submission_single_cat_retrain.csv',index='row_id')"
   ]
  },
  {
   "cell_type": "code",
   "execution_count": 49,
   "id": "6f72de81-5969-4bb4-8b97-49c7b0a25e3c",
   "metadata": {
    "execution": {
     "iopub.execute_input": "2022-11-15T15:15:48.103195Z",
     "iopub.status.busy": "2022-11-15T15:15:48.102726Z",
     "iopub.status.idle": "2022-11-15T15:16:07.734382Z",
     "shell.execute_reply": "2022-11-15T15:16:07.733823Z",
     "shell.execute_reply.started": "2022-11-15T15:15:48.103151Z"
    }
   },
   "outputs": [
    {
     "name": "stdout",
     "output_type": "stream",
     "text": [
      "CPU times: user 0 ns, sys: 1.07 s, total: 1.07 s\n",
      "Wall time: 1.08 s\n",
      "CPU times: user 163 ms, sys: 1.61 s, total: 1.77 s\n",
      "Wall time: 18.5 s\n"
     ]
    },
    {
     "data": {
      "text/plain": [
       "(array([[-0.09296, -0.2954 , -0.317  , ...,  0.0268 ,  0.2224 ,  0.5923 ],\n",
       "        [-0.1561 , -0.3267 , -0.2715 , ...,  0.1628 ,  0.2356 ,  0.626  ],\n",
       "        [-0.1193 , -0.288  , -0.1714 , ...,  0.09045,  0.1656 ,  0.636  ],\n",
       "        ...,\n",
       "        [-0.2595 , -0.2693 , -0.2467 , ...,  0.1925 , -0.1059 ,  0.6787 ],\n",
       "        [-0.277  , -0.2664 , -0.2803 , ...,  0.253  ,  0.08716,  0.9233 ],\n",
       "        [-0.1078 , -0.1644 , -0.3118 , ...,  0.2844 ,  1.63   ,  1.234  ]],\n",
       "       dtype=float16),\n",
       " array([[-0.1027 , -0.2988 , -0.325  , ...,  0.03497,  0.2211 ,  0.642  ],\n",
       "        [-0.1484 , -0.3179 , -0.2952 , ...,  0.1724 ,  0.23   ,  0.618  ],\n",
       "        [-0.11523, -0.2876 , -0.2167 , ...,  0.08075,  0.179  ,  0.6357 ],\n",
       "        ...,\n",
       "        [-0.26   , -0.2642 , -0.2324 , ...,  0.1492 , -0.09247,  0.674  ],\n",
       "        [-0.2615 , -0.2563 , -0.2627 , ...,  0.255  ,  0.1384 ,  0.896  ],\n",
       "        [-0.1115 , -0.1605 , -0.2896 , ...,  0.2976 ,  1.671  ,  1.28   ]],\n",
       "       dtype=float16))"
      ]
     },
     "execution_count": 49,
     "metadata": {},
     "output_type": "execute_result"
    }
   ],
   "source": [
    "%time preds_multi_single_cat = np.load('preds_multi/preds_multi_single_cat.npy')\n",
    "%time preds_multi_single_lgbm = np.load('preds_multi/preds_multi_lgbm_single.npy')\n",
    "preds_multi_single_cat,preds_multi_single_lgbm"
   ]
  },
  {
   "cell_type": "code",
   "execution_count": null,
   "id": "700560ae-773c-4567-9bfe-4d2739ff05a8",
   "metadata": {
    "execution": {
     "iopub.execute_input": "2022-11-15T15:17:10.080815Z",
     "iopub.status.busy": "2022-11-15T15:17:10.080255Z"
    }
   },
   "outputs": [
    {
     "data": {
      "application/vnd.jupyter.widget-view+json": {
       "model_id": "44ad526adf254c60bb3ecf656186d0f9",
       "version_major": 2,
       "version_minor": 0
      },
      "text/plain": [
       "  0%|          | 0/55935 [00:00<?, ?it/s]"
      ]
     },
     "metadata": {},
     "output_type": "display_data"
    },
    {
     "data": {
      "application/vnd.jupyter.widget-view+json": {
       "model_id": "3d413deb0d4140b396550b4ae9956bc5",
       "version_major": 2,
       "version_minor": 0
      },
      "text/plain": [
       "  0%|          | 0/55935 [00:00<?, ?it/s]"
      ]
     },
     "metadata": {},
     "output_type": "display_data"
    }
   ],
   "source": [
    "preds_multi_single_cat = standardize(preds_multi_single_cat)\n",
    "preds_multi_single_lgbm = standardize(preds_multi_single_lgbm)"
   ]
  },
  {
   "cell_type": "code",
   "execution_count": 51,
   "id": "ccd6881e-6e4b-486b-bdc1-e66205237f02",
   "metadata": {
    "execution": {
     "iopub.execute_input": "2022-11-15T15:21:01.078702Z",
     "iopub.status.busy": "2022-11-15T15:21:01.078165Z",
     "iopub.status.idle": "2022-11-15T15:22:00.813279Z",
     "shell.execute_reply": "2022-11-15T15:22:00.812240Z",
     "shell.execute_reply.started": "2022-11-15T15:21:01.078677Z"
    }
   },
   "outputs": [
    {
     "data": {
      "text/plain": [
       "array([[-0.1406 , -0.4272 , -0.4614 , ...,  0.04443,  0.3188 ,  0.8877 ],\n",
       "       [-0.2107 , -0.446  , -0.392  , ...,  0.2319 ,  0.3223 ,  0.861  ],\n",
       "       [-0.1759 , -0.4316 , -0.291  , ...,  0.1284 ,  0.2583 ,  0.954  ],\n",
       "       ...,\n",
       "       [-0.4014 , -0.412  , -0.3699 , ...,  0.2634 , -0.1531 ,  1.045  ],\n",
       "       [-0.4    , -0.388  , -0.4028 , ...,  0.377  ,  0.1677 ,  1.351  ],\n",
       "       [-0.1656 , -0.2454 , -0.454  , ...,  0.4395 ,  2.492  ,  1.898  ]],\n",
       "      dtype=float16)"
      ]
     },
     "execution_count": 51,
     "metadata": {},
     "output_type": "execute_result"
    }
   ],
   "source": [
    "preds_multi_ens = 0.5*preds_multi_single_cat + 0.5*preds_multi_single_lgbm\n",
    "preds_multi_ens"
   ]
  },
  {
   "cell_type": "code",
   "execution_count": 52,
   "id": "bfda97a3-4ebc-46ce-bd4f-2e4b33750a73",
   "metadata": {
    "execution": {
     "iopub.execute_input": "2022-11-15T15:22:00.815775Z",
     "iopub.status.busy": "2022-11-15T15:22:00.815214Z",
     "iopub.status.idle": "2022-11-15T15:23:02.968700Z",
     "shell.execute_reply": "2022-11-15T15:23:02.967968Z",
     "shell.execute_reply.started": "2022-11-15T15:22:00.815729Z"
    }
   },
   "outputs": [
    {
     "data": {
      "text/plain": [
       "row_id\n",
       "0                NaN\n",
       "1                NaN\n",
       "2                NaN\n",
       "3                NaN\n",
       "4                NaN\n",
       "              ...   \n",
       "65744175    4.429688\n",
       "65744176   -0.625977\n",
       "65744177   -0.621582\n",
       "65744178    0.275391\n",
       "65744179    3.773438\n",
       "Name: target, Length: 65744180, dtype: float32"
      ]
     },
     "execution_count": 52,
     "metadata": {},
     "output_type": "execute_result"
    }
   ],
   "source": [
    "# multi\n",
    "eval_ids = pd.read_parquet(\"../input/multimodal-single-cell-as-sparse-matrix/evaluation.parquet\")\n",
    "eval_ids.cell_id = eval_ids.cell_id.astype(pd.CategoricalDtype())\n",
    "eval_ids.gene_id = eval_ids.gene_id.astype(pd.CategoricalDtype())\n",
    "\n",
    "submission_multi = pd.Series(name='target',\n",
    "                       index=pd.MultiIndex.from_frame(eval_ids), \n",
    "                       dtype=np.float32)\n",
    "y_columns = np.load(\"../input/multimodal-single-cell-as-sparse-matrix/train_multi_targets_idxcol.npz\",\n",
    "                   allow_pickle=True)[\"columns\"]\n",
    "\n",
    "test_index = np.load(\"../input/multimodal-single-cell-as-sparse-matrix/test_multi_inputs_idxcol.npz\",\n",
    "                    allow_pickle=True)[\"index\"]\n",
    "\n",
    "cell_dict = dict((k,v) for v,k in enumerate(test_index)) \n",
    "assert len(cell_dict)  == len(test_index)\n",
    "\n",
    "gene_dict = dict((k,v) for v,k in enumerate(y_columns))\n",
    "assert len(gene_dict) == len(y_columns)\n",
    "\n",
    "eval_ids_cell_num = eval_ids.cell_id.apply(lambda x:cell_dict.get(x, -1))\n",
    "eval_ids_gene_num = eval_ids.gene_id.apply(lambda x:gene_dict.get(x, -1))\n",
    "valid_multi_rows = (eval_ids_gene_num !=-1) & (eval_ids_cell_num!=-1)\n",
    "\n",
    "submission_multi.iloc[valid_multi_rows] = preds_multi_ens[eval_ids_cell_num[valid_multi_rows].to_numpy(),\n",
    "eval_ids_gene_num[valid_multi_rows].to_numpy()]\n",
    "\n",
    "del eval_ids_cell_num, eval_ids_gene_num, valid_multi_rows, eval_ids, test_index, y_columns\n",
    "gc.collect()\n",
    "\n",
    "submission_multi.reset_index(drop=True, inplace=True)\n",
    "submission_multi.index.name = 'row_id'\n",
    "\n",
    "submission_multi"
   ]
  },
  {
   "cell_type": "code",
   "execution_count": 53,
   "id": "26ba895c-b085-4b09-b79a-e4b48bfbd838",
   "metadata": {
    "execution": {
     "iopub.execute_input": "2022-11-15T15:23:02.974854Z",
     "iopub.status.busy": "2022-11-15T15:23:02.972499Z",
     "iopub.status.idle": "2022-11-15T15:23:03.236552Z",
     "shell.execute_reply": "2022-11-15T15:23:03.235957Z",
     "shell.execute_reply.started": "2022-11-15T15:23:02.974811Z"
    }
   },
   "outputs": [
    {
     "data": {
      "text/plain": [
       "row_id\n",
       "0          -0.349609\n",
       "1          -0.394287\n",
       "2          -0.374512\n",
       "3           0.598145\n",
       "4           1.335938\n",
       "              ...   \n",
       "65744175    4.429688\n",
       "65744176   -0.625977\n",
       "65744177   -0.621582\n",
       "65744178    0.275391\n",
       "65744179    3.773438\n",
       "Name: target, Length: 65744180, dtype: float64"
      ]
     },
     "execution_count": 53,
     "metadata": {},
     "output_type": "execute_result"
    }
   ],
   "source": [
    "submission.iloc[len(preds_cite_ens.ravel()):] = submission_multi.iloc[len(preds_cite_ens.ravel()):]\n",
    "submission"
   ]
  },
  {
   "cell_type": "code",
   "execution_count": 54,
   "id": "ffb649ad-8cfa-466f-8eb2-b28b6c430dc0",
   "metadata": {
    "execution": {
     "iopub.execute_input": "2022-11-15T15:25:35.638824Z",
     "iopub.status.busy": "2022-11-15T15:25:35.638329Z",
     "iopub.status.idle": "2022-11-15T15:28:40.737185Z",
     "shell.execute_reply": "2022-11-15T15:28:40.736036Z",
     "shell.execute_reply.started": "2022-11-15T15:25:35.638776Z"
    }
   },
   "outputs": [],
   "source": [
    "submission.to_csv('submission_GBDT_ens.csv',index='row_id')"
   ]
  },
  {
   "cell_type": "code",
   "execution_count": 56,
   "id": "a590d9a4-39b9-4450-948a-5a1f846013d4",
   "metadata": {
    "execution": {
     "iopub.execute_input": "2022-11-15T15:30:33.697120Z",
     "iopub.status.busy": "2022-11-15T15:30:33.696674Z",
     "iopub.status.idle": "2022-11-15T15:30:50.642526Z",
     "shell.execute_reply": "2022-11-15T15:30:50.641950Z",
     "shell.execute_reply.started": "2022-11-15T15:30:33.697075Z"
    },
    "tags": []
   },
   "outputs": [
    {
     "data": {
      "text/html": [
       "<div>\n",
       "<style scoped>\n",
       "    .dataframe tbody tr th:only-of-type {\n",
       "        vertical-align: middle;\n",
       "    }\n",
       "\n",
       "    .dataframe tbody tr th {\n",
       "        vertical-align: top;\n",
       "    }\n",
       "\n",
       "    .dataframe thead th {\n",
       "        text-align: right;\n",
       "    }\n",
       "</style>\n",
       "<table border=\"1\" class=\"dataframe\">\n",
       "  <thead>\n",
       "    <tr style=\"text-align: right;\">\n",
       "      <th></th>\n",
       "      <th>row_id</th>\n",
       "      <th>target</th>\n",
       "    </tr>\n",
       "  </thead>\n",
       "  <tbody>\n",
       "    <tr>\n",
       "      <th>0</th>\n",
       "      <td>0</td>\n",
       "      <td>0.275889</td>\n",
       "    </tr>\n",
       "    <tr>\n",
       "      <th>1</th>\n",
       "      <td>1</td>\n",
       "      <td>0.259389</td>\n",
       "    </tr>\n",
       "    <tr>\n",
       "      <th>2</th>\n",
       "      <td>2</td>\n",
       "      <td>0.356809</td>\n",
       "    </tr>\n",
       "    <tr>\n",
       "      <th>3</th>\n",
       "      <td>3</td>\n",
       "      <td>3.706386</td>\n",
       "    </tr>\n",
       "    <tr>\n",
       "      <th>4</th>\n",
       "      <td>4</td>\n",
       "      <td>4.317779</td>\n",
       "    </tr>\n",
       "    <tr>\n",
       "      <th>...</th>\n",
       "      <td>...</td>\n",
       "      <td>...</td>\n",
       "    </tr>\n",
       "    <tr>\n",
       "      <th>65744175</th>\n",
       "      <td>65744175</td>\n",
       "      <td>6.082031</td>\n",
       "    </tr>\n",
       "    <tr>\n",
       "      <th>65744176</th>\n",
       "      <td>65744176</td>\n",
       "      <td>0.036530</td>\n",
       "    </tr>\n",
       "    <tr>\n",
       "      <th>65744177</th>\n",
       "      <td>65744177</td>\n",
       "      <td>0.042511</td>\n",
       "    </tr>\n",
       "    <tr>\n",
       "      <th>65744178</th>\n",
       "      <td>65744178</td>\n",
       "      <td>1.142578</td>\n",
       "    </tr>\n",
       "    <tr>\n",
       "      <th>65744179</th>\n",
       "      <td>65744179</td>\n",
       "      <td>5.164062</td>\n",
       "    </tr>\n",
       "  </tbody>\n",
       "</table>\n",
       "<p>65744180 rows × 2 columns</p>\n",
       "</div>"
      ],
      "text/plain": [
       "            row_id    target\n",
       "0                0  0.275889\n",
       "1                1  0.259389\n",
       "2                2  0.356809\n",
       "3                3  3.706386\n",
       "4                4  4.317779\n",
       "...            ...       ...\n",
       "65744175  65744175  6.082031\n",
       "65744176  65744176  0.036530\n",
       "65744177  65744177  0.042511\n",
       "65744178  65744178  1.142578\n",
       "65744179  65744179  5.164062\n",
       "\n",
       "[65744180 rows x 2 columns]"
      ]
     },
     "execution_count": 56,
     "metadata": {},
     "output_type": "execute_result"
    }
   ],
   "source": [
    "sub32 = pd.read_csv('submission_x32y32.csv')\n",
    "sub32"
   ]
  },
  {
   "cell_type": "code",
   "execution_count": 59,
   "id": "7537e6c8-ca0f-4c4b-bb2b-13a3cff43550",
   "metadata": {
    "execution": {
     "iopub.execute_input": "2022-11-15T15:43:14.124714Z",
     "iopub.status.busy": "2022-11-15T15:43:14.124341Z",
     "iopub.status.idle": "2022-11-15T15:43:15.381246Z",
     "shell.execute_reply": "2022-11-15T15:43:15.380104Z",
     "shell.execute_reply.started": "2022-11-15T15:43:14.124686Z"
    },
    "tags": []
   },
   "outputs": [
    {
     "name": "stdout",
     "output_type": "stream",
     "text": [
      "Data package template written to: submission_dataset/dataset-metadata.json\n"
     ]
    }
   ],
   "source": [
    "!kaggle datasets init -p submission_dataset"
   ]
  },
  {
   "cell_type": "code",
   "execution_count": 61,
   "id": "815d0ca6-2483-4b7f-9bf6-ddf43bf6a281",
   "metadata": {
    "execution": {
     "iopub.execute_input": "2022-11-15T15:49:00.514870Z",
     "iopub.status.busy": "2022-11-15T15:49:00.514483Z",
     "iopub.status.idle": "2022-11-15T15:59:24.516644Z",
     "shell.execute_reply": "2022-11-15T15:59:24.515783Z",
     "shell.execute_reply.started": "2022-11-15T15:49:00.514844Z"
    },
    "tags": []
   },
   "outputs": [
    {
     "name": "stdout",
     "output_type": "stream",
     "text": [
      "Skipping folder: .ipynb_checkpoints; use '--dir-mode' to upload folders\n",
      "Starting upload for file submission_GBDT_ens.csv\n",
      "100%|██████████████████████████████████████| 1.38G/1.38G [10:22<00:00, 2.37MB/s]\n",
      "Upload successful: submission_GBDT_ens.csv (1GB)\n",
      "Traceback (most recent call last):\n",
      "  File \"/opt/conda/envs/saturn/lib/python3.9/site-packages/urllib3/connectionpool.py\", line 703, in urlopen\n",
      "    httplib_response = self._make_request(\n",
      "  File \"/opt/conda/envs/saturn/lib/python3.9/site-packages/urllib3/connectionpool.py\", line 449, in _make_request\n",
      "    six.raise_from(e, None)\n",
      "  File \"<string>\", line 3, in raise_from\n",
      "  File \"/opt/conda/envs/saturn/lib/python3.9/site-packages/urllib3/connectionpool.py\", line 444, in _make_request\n",
      "    httplib_response = conn.getresponse()\n",
      "  File \"/opt/conda/envs/saturn/lib/python3.9/http/client.py\", line 1377, in getresponse\n",
      "    response.begin()\n",
      "  File \"/opt/conda/envs/saturn/lib/python3.9/http/client.py\", line 320, in begin\n",
      "    version, status, reason = self._read_status()\n",
      "  File \"/opt/conda/envs/saturn/lib/python3.9/http/client.py\", line 281, in _read_status\n",
      "    line = str(self.fp.readline(_MAXLINE + 1), \"iso-8859-1\")\n",
      "  File \"/opt/conda/envs/saturn/lib/python3.9/socket.py\", line 704, in readinto\n",
      "    return self._sock.recv_into(b)\n",
      "  File \"/opt/conda/envs/saturn/lib/python3.9/ssl.py\", line 1241, in recv_into\n",
      "    return self.read(nbytes, buffer)\n",
      "  File \"/opt/conda/envs/saturn/lib/python3.9/ssl.py\", line 1099, in read\n",
      "    return self._sslobj.read(len, buffer)\n",
      "ConnectionResetError: [Errno 104] Connection reset by peer\n",
      "\n",
      "During handling of the above exception, another exception occurred:\n",
      "\n",
      "Traceback (most recent call last):\n",
      "  File \"/srv/conda/envs/saturn/bin/kaggle\", line 8, in <module>\n",
      "    sys.exit(main())\n",
      "  File \"/opt/conda/envs/saturn/lib/python3.9/site-packages/kaggle/cli.py\", line 67, in main\n",
      "    out = args.func(**command_args)\n",
      "  File \"/opt/conda/envs/saturn/lib/python3.9/site-packages/kaggle/api/kaggle_api_extended.py\", line 1555, in dataset_create_new_cli\n",
      "    result = self.dataset_create_new(folder, public, quiet, convert_to_csv,\n",
      "  File \"/opt/conda/envs/saturn/lib/python3.9/site-packages/kaggle/api/kaggle_api_extended.py\", line 1535, in dataset_create_new\n",
      "    self.datasets_create_new_with_http_info(request)))\n",
      "  File \"/opt/conda/envs/saturn/lib/python3.9/site-packages/kaggle/api/kaggle_api.py\", line 1143, in datasets_create_new_with_http_info\n",
      "    return self.api_client.call_api(\n",
      "  File \"/opt/conda/envs/saturn/lib/python3.9/site-packages/kaggle/api_client.py\", line 329, in call_api\n",
      "    return self.__call_api(resource_path, method,\n",
      "  File \"/opt/conda/envs/saturn/lib/python3.9/site-packages/kaggle/api_client.py\", line 161, in __call_api\n",
      "    response_data = self.request(\n",
      "  File \"/opt/conda/envs/saturn/lib/python3.9/site-packages/kaggle/api_client.py\", line 371, in request\n",
      "    return self.rest_client.POST(url,\n",
      "  File \"/opt/conda/envs/saturn/lib/python3.9/site-packages/kaggle/rest.py\", line 282, in POST\n",
      "    return self.request(\"POST\", url,\n",
      "  File \"/opt/conda/envs/saturn/lib/python3.9/site-packages/kaggle/rest.py\", line 175, in request\n",
      "    r = self.pool_manager.request(\n",
      "  File \"/opt/conda/envs/saturn/lib/python3.9/site-packages/urllib3/request.py\", line 78, in request\n",
      "    return self.request_encode_body(\n",
      "  File \"/opt/conda/envs/saturn/lib/python3.9/site-packages/urllib3/request.py\", line 170, in request_encode_body\n",
      "    return self.urlopen(method, url, **extra_kw)\n",
      "  File \"/opt/conda/envs/saturn/lib/python3.9/site-packages/urllib3/poolmanager.py\", line 376, in urlopen\n",
      "    response = conn.urlopen(method, u.request_uri, **kw)\n",
      "  File \"/opt/conda/envs/saturn/lib/python3.9/site-packages/urllib3/connectionpool.py\", line 785, in urlopen\n",
      "    retries = retries.increment(\n",
      "  File \"/opt/conda/envs/saturn/lib/python3.9/site-packages/urllib3/util/retry.py\", line 550, in increment\n",
      "    raise six.reraise(type(error), error, _stacktrace)\n",
      "  File \"/opt/conda/envs/saturn/lib/python3.9/site-packages/urllib3/packages/six.py\", line 769, in reraise\n",
      "    raise value.with_traceback(tb)\n",
      "  File \"/opt/conda/envs/saturn/lib/python3.9/site-packages/urllib3/connectionpool.py\", line 703, in urlopen\n",
      "    httplib_response = self._make_request(\n",
      "  File \"/opt/conda/envs/saturn/lib/python3.9/site-packages/urllib3/connectionpool.py\", line 449, in _make_request\n",
      "    six.raise_from(e, None)\n",
      "  File \"<string>\", line 3, in raise_from\n",
      "  File \"/opt/conda/envs/saturn/lib/python3.9/site-packages/urllib3/connectionpool.py\", line 444, in _make_request\n",
      "    httplib_response = conn.getresponse()\n",
      "  File \"/opt/conda/envs/saturn/lib/python3.9/http/client.py\", line 1377, in getresponse\n",
      "    response.begin()\n",
      "  File \"/opt/conda/envs/saturn/lib/python3.9/http/client.py\", line 320, in begin\n",
      "    version, status, reason = self._read_status()\n",
      "  File \"/opt/conda/envs/saturn/lib/python3.9/http/client.py\", line 281, in _read_status\n",
      "    line = str(self.fp.readline(_MAXLINE + 1), \"iso-8859-1\")\n",
      "  File \"/opt/conda/envs/saturn/lib/python3.9/socket.py\", line 704, in readinto\n",
      "    return self._sock.recv_into(b)\n",
      "  File \"/opt/conda/envs/saturn/lib/python3.9/ssl.py\", line 1241, in recv_into\n",
      "    return self.read(nbytes, buffer)\n",
      "  File \"/opt/conda/envs/saturn/lib/python3.9/ssl.py\", line 1099, in read\n",
      "    return self._sslobj.read(len, buffer)\n",
      "urllib3.exceptions.ProtocolError: ('Connection aborted.', ConnectionResetError(104, 'Connection reset by peer'))\n"
     ]
    }
   ],
   "source": [
    "!kaggle datasets create -p submission_dataset"
   ]
  },
  {
   "cell_type": "code",
   "execution_count": null,
   "id": "cbb470e7-40d7-48a5-8abb-3bcf1b411b7e",
   "metadata": {},
   "outputs": [],
   "source": []
  }
 ],
 "metadata": {
  "kernelspec": {
   "display_name": "saturn (Python 3)",
   "language": "python",
   "name": "python3"
  },
  "language_info": {
   "codemirror_mode": {
    "name": "ipython",
    "version": 3
   },
   "file_extension": ".py",
   "mimetype": "text/x-python",
   "name": "python",
   "nbconvert_exporter": "python",
   "pygments_lexer": "ipython3",
   "version": "3.9.12"
  }
 },
 "nbformat": 4,
 "nbformat_minor": 5
}
